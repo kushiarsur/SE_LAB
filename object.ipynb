{
  "nbformat": 4,
  "nbformat_minor": 0,
  "metadata": {
    "colab": {
      "provenance": [],
      "authorship_tag": "ABX9TyM4d2CUl5OVBPO3Z71NcPiY",
      "include_colab_link": true
    },
    "kernelspec": {
      "name": "python3",
      "display_name": "Python 3"
    },
    "language_info": {
      "name": "python"
    }
  },
  "cells": [
    {
      "cell_type": "markdown",
      "metadata": {
        "id": "view-in-github",
        "colab_type": "text"
      },
      "source": [
        "<a href=\"https://colab.research.google.com/github/kushiarsur/SE_LAB/blob/main/object.ipynb\" target=\"_parent\"><img src=\"https://colab.research.google.com/assets/colab-badge.svg\" alt=\"Open In Colab\"/></a>"
      ]
    },
    {
      "cell_type": "code",
      "execution_count": 4,
      "metadata": {
        "colab": {
          "base_uri": "https://localhost:8080/"
        },
        "id": "NoUfB2DMJYkW",
        "outputId": "ae445b7d-fee2-4d39-e7c2-87739c94ed26"
      },
      "outputs": [
        {
          "output_type": "stream",
          "name": "stdout",
          "text": [
            "Cloning into 'object-detection-opencv'...\n",
            "remote: Enumerating objects: 67, done.\u001b[K\n",
            "remote: Counting objects: 100% (6/6), done.\u001b[K\n",
            "remote: Compressing objects: 100% (6/6), done.\u001b[K\n",
            "remote: Total 67 (delta 2), reused 2 (delta 0), pack-reused 61 (from 1)\u001b[K\n",
            "Receiving objects: 100% (67/67), 340.20 KiB | 37.80 MiB/s, done.\n",
            "Resolving deltas: 100% (31/31), done.\n"
          ]
        }
      ],
      "source": [
        "# Clone the GitHub repo\n",
        "!git clone https://github.com/arunponnusamy/object-detection-opencv.git\n",
        "\n",
        "\n"
      ]
    },
    {
      "cell_type": "code",
      "source": [
        "!pip install opencv-python-headless\n"
      ],
      "metadata": {
        "colab": {
          "base_uri": "https://localhost:8080/"
        },
        "id": "BzLobAfgMQCG",
        "outputId": "7e182297-9070-42e2-8abc-8402cadedd61"
      },
      "execution_count": 6,
      "outputs": [
        {
          "output_type": "stream",
          "name": "stdout",
          "text": [
            "Requirement already satisfied: opencv-python-headless in /usr/local/lib/python3.11/dist-packages (4.11.0.86)\n",
            "Requirement already satisfied: numpy>=1.21.2 in /usr/local/lib/python3.11/dist-packages (from opencv-python-headless) (2.0.2)\n"
          ]
        }
      ]
    },
    {
      "cell_type": "code",
      "source": [
        "%cd object-detection-opencv\n",
        "\n",
        "# Download YOLOv3 weights\n",
        "!wget https://pjreddie.com/media/files/yolov3.weights\n",
        "\n",
        "# Already inside repo, cfg and coco.names are here\n"
      ],
      "metadata": {
        "colab": {
          "base_uri": "https://localhost:8080/"
        },
        "id": "K2wq1DkHMTca",
        "outputId": "aeb9dc68-11e2-4ed1-d0c0-c83455ca2fb3"
      },
      "execution_count": 7,
      "outputs": [
        {
          "output_type": "stream",
          "name": "stdout",
          "text": [
            "/content/object-detection-opencv\n",
            "--2025-05-22 13:31:40--  https://pjreddie.com/media/files/yolov3.weights\n",
            "Resolving pjreddie.com (pjreddie.com)... 104.21.88.156, 172.67.185.199, 2606:4700:3037::6815:589c, ...\n",
            "Connecting to pjreddie.com (pjreddie.com)|104.21.88.156|:443... connected.\n",
            "HTTP request sent, awaiting response... 200 OK\n",
            "Length: unspecified [text/html]\n",
            "Saving to: ‘yolov3.weights’\n",
            "\n",
            "yolov3.weights          [ <=>                ]   8.88K  --.-KB/s    in 0s      \n",
            "\n",
            "2025-05-22 13:31:41 (32.6 MB/s) - ‘yolov3.weights’ saved [9093]\n",
            "\n"
          ]
        }
      ]
    },
    {
      "cell_type": "code",
      "source": [
        "from google.colab import files\n",
        "uploaded = files.upload()\n"
      ],
      "metadata": {
        "colab": {
          "base_uri": "https://localhost:8080/",
          "height": 74
        },
        "id": "FhSHpQ-AMWi5",
        "outputId": "c451e205-e710-463e-d275-845a6b729a34"
      },
      "execution_count": 8,
      "outputs": [
        {
          "output_type": "display_data",
          "data": {
            "text/plain": [
              "<IPython.core.display.HTML object>"
            ],
            "text/html": [
              "\n",
              "     <input type=\"file\" id=\"files-b4f00694-eb60-4b77-a8ea-6979c0d20978\" name=\"files[]\" multiple disabled\n",
              "        style=\"border:none\" />\n",
              "     <output id=\"result-b4f00694-eb60-4b77-a8ea-6979c0d20978\">\n",
              "      Upload widget is only available when the cell has been executed in the\n",
              "      current browser session. Please rerun this cell to enable.\n",
              "      </output>\n",
              "      <script>// Copyright 2017 Google LLC\n",
              "//\n",
              "// Licensed under the Apache License, Version 2.0 (the \"License\");\n",
              "// you may not use this file except in compliance with the License.\n",
              "// You may obtain a copy of the License at\n",
              "//\n",
              "//      http://www.apache.org/licenses/LICENSE-2.0\n",
              "//\n",
              "// Unless required by applicable law or agreed to in writing, software\n",
              "// distributed under the License is distributed on an \"AS IS\" BASIS,\n",
              "// WITHOUT WARRANTIES OR CONDITIONS OF ANY KIND, either express or implied.\n",
              "// See the License for the specific language governing permissions and\n",
              "// limitations under the License.\n",
              "\n",
              "/**\n",
              " * @fileoverview Helpers for google.colab Python module.\n",
              " */\n",
              "(function(scope) {\n",
              "function span(text, styleAttributes = {}) {\n",
              "  const element = document.createElement('span');\n",
              "  element.textContent = text;\n",
              "  for (const key of Object.keys(styleAttributes)) {\n",
              "    element.style[key] = styleAttributes[key];\n",
              "  }\n",
              "  return element;\n",
              "}\n",
              "\n",
              "// Max number of bytes which will be uploaded at a time.\n",
              "const MAX_PAYLOAD_SIZE = 100 * 1024;\n",
              "\n",
              "function _uploadFiles(inputId, outputId) {\n",
              "  const steps = uploadFilesStep(inputId, outputId);\n",
              "  const outputElement = document.getElementById(outputId);\n",
              "  // Cache steps on the outputElement to make it available for the next call\n",
              "  // to uploadFilesContinue from Python.\n",
              "  outputElement.steps = steps;\n",
              "\n",
              "  return _uploadFilesContinue(outputId);\n",
              "}\n",
              "\n",
              "// This is roughly an async generator (not supported in the browser yet),\n",
              "// where there are multiple asynchronous steps and the Python side is going\n",
              "// to poll for completion of each step.\n",
              "// This uses a Promise to block the python side on completion of each step,\n",
              "// then passes the result of the previous step as the input to the next step.\n",
              "function _uploadFilesContinue(outputId) {\n",
              "  const outputElement = document.getElementById(outputId);\n",
              "  const steps = outputElement.steps;\n",
              "\n",
              "  const next = steps.next(outputElement.lastPromiseValue);\n",
              "  return Promise.resolve(next.value.promise).then((value) => {\n",
              "    // Cache the last promise value to make it available to the next\n",
              "    // step of the generator.\n",
              "    outputElement.lastPromiseValue = value;\n",
              "    return next.value.response;\n",
              "  });\n",
              "}\n",
              "\n",
              "/**\n",
              " * Generator function which is called between each async step of the upload\n",
              " * process.\n",
              " * @param {string} inputId Element ID of the input file picker element.\n",
              " * @param {string} outputId Element ID of the output display.\n",
              " * @return {!Iterable<!Object>} Iterable of next steps.\n",
              " */\n",
              "function* uploadFilesStep(inputId, outputId) {\n",
              "  const inputElement = document.getElementById(inputId);\n",
              "  inputElement.disabled = false;\n",
              "\n",
              "  const outputElement = document.getElementById(outputId);\n",
              "  outputElement.innerHTML = '';\n",
              "\n",
              "  const pickedPromise = new Promise((resolve) => {\n",
              "    inputElement.addEventListener('change', (e) => {\n",
              "      resolve(e.target.files);\n",
              "    });\n",
              "  });\n",
              "\n",
              "  const cancel = document.createElement('button');\n",
              "  inputElement.parentElement.appendChild(cancel);\n",
              "  cancel.textContent = 'Cancel upload';\n",
              "  const cancelPromise = new Promise((resolve) => {\n",
              "    cancel.onclick = () => {\n",
              "      resolve(null);\n",
              "    };\n",
              "  });\n",
              "\n",
              "  // Wait for the user to pick the files.\n",
              "  const files = yield {\n",
              "    promise: Promise.race([pickedPromise, cancelPromise]),\n",
              "    response: {\n",
              "      action: 'starting',\n",
              "    }\n",
              "  };\n",
              "\n",
              "  cancel.remove();\n",
              "\n",
              "  // Disable the input element since further picks are not allowed.\n",
              "  inputElement.disabled = true;\n",
              "\n",
              "  if (!files) {\n",
              "    return {\n",
              "      response: {\n",
              "        action: 'complete',\n",
              "      }\n",
              "    };\n",
              "  }\n",
              "\n",
              "  for (const file of files) {\n",
              "    const li = document.createElement('li');\n",
              "    li.append(span(file.name, {fontWeight: 'bold'}));\n",
              "    li.append(span(\n",
              "        `(${file.type || 'n/a'}) - ${file.size} bytes, ` +\n",
              "        `last modified: ${\n",
              "            file.lastModifiedDate ? file.lastModifiedDate.toLocaleDateString() :\n",
              "                                    'n/a'} - `));\n",
              "    const percent = span('0% done');\n",
              "    li.appendChild(percent);\n",
              "\n",
              "    outputElement.appendChild(li);\n",
              "\n",
              "    const fileDataPromise = new Promise((resolve) => {\n",
              "      const reader = new FileReader();\n",
              "      reader.onload = (e) => {\n",
              "        resolve(e.target.result);\n",
              "      };\n",
              "      reader.readAsArrayBuffer(file);\n",
              "    });\n",
              "    // Wait for the data to be ready.\n",
              "    let fileData = yield {\n",
              "      promise: fileDataPromise,\n",
              "      response: {\n",
              "        action: 'continue',\n",
              "      }\n",
              "    };\n",
              "\n",
              "    // Use a chunked sending to avoid message size limits. See b/62115660.\n",
              "    let position = 0;\n",
              "    do {\n",
              "      const length = Math.min(fileData.byteLength - position, MAX_PAYLOAD_SIZE);\n",
              "      const chunk = new Uint8Array(fileData, position, length);\n",
              "      position += length;\n",
              "\n",
              "      const base64 = btoa(String.fromCharCode.apply(null, chunk));\n",
              "      yield {\n",
              "        response: {\n",
              "          action: 'append',\n",
              "          file: file.name,\n",
              "          data: base64,\n",
              "        },\n",
              "      };\n",
              "\n",
              "      let percentDone = fileData.byteLength === 0 ?\n",
              "          100 :\n",
              "          Math.round((position / fileData.byteLength) * 100);\n",
              "      percent.textContent = `${percentDone}% done`;\n",
              "\n",
              "    } while (position < fileData.byteLength);\n",
              "  }\n",
              "\n",
              "  // All done.\n",
              "  yield {\n",
              "    response: {\n",
              "      action: 'complete',\n",
              "    }\n",
              "  };\n",
              "}\n",
              "\n",
              "scope.google = scope.google || {};\n",
              "scope.google.colab = scope.google.colab || {};\n",
              "scope.google.colab._files = {\n",
              "  _uploadFiles,\n",
              "  _uploadFilesContinue,\n",
              "};\n",
              "})(self);\n",
              "</script> "
            ]
          },
          "metadata": {}
        },
        {
          "output_type": "stream",
          "name": "stdout",
          "text": [
            "Saving archive 2.zip to archive 2.zip\n"
          ]
        }
      ]
    },
    {
      "cell_type": "code",
      "source": [
        "import zipfile\n",
        "import os\n",
        "\n",
        "with zipfile.ZipFile(\"archive 2.zip\", 'r') as zip_ref:\n",
        "    zip_ref.extractall(\"images\")  # Extract to folder named 'images'\n",
        "\n"
      ],
      "metadata": {
        "id": "LLb-IT-uNuqB"
      },
      "execution_count": 10,
      "outputs": []
    },
    {
      "cell_type": "code",
      "source": [
        "import os\n",
        "\n",
        "image_files = [f for f in os.listdir(\"images\") if f.endswith(('.jpg', '.png', '.jpeg'))]\n",
        "print(\"Extracted image files:\", image_files)\n"
      ],
      "metadata": {
        "colab": {
          "base_uri": "https://localhost:8080/"
        },
        "id": "adyTk4ScOOLj",
        "outputId": "f248d6ec-d55d-4b73-dfba-32d5237b5fa7"
      },
      "execution_count": 11,
      "outputs": [
        {
          "output_type": "stream",
          "name": "stdout",
          "text": [
            "Extracted image files: []\n"
          ]
        }
      ]
    },
    {
      "cell_type": "code",
      "source": [
        "!wget https://raw.githubusercontent.com/pjreddie/darknet/master/cfg/yolov3-tiny.cfg\n",
        "!wget https://pjreddie.com/media/files/yolov3-tiny.weights\n",
        "!wget https://raw.githubusercontent.com/pjreddie/darknet/master/data/coco.names\n"
      ],
      "metadata": {
        "colab": {
          "base_uri": "https://localhost:8080/"
        },
        "id": "ddl2NM8QPJFR",
        "outputId": "3b787c9c-d67a-4322-f607-791a503f0efc"
      },
      "execution_count": 13,
      "outputs": [
        {
          "output_type": "stream",
          "name": "stdout",
          "text": [
            "--2025-05-22 13:45:32--  https://raw.githubusercontent.com/pjreddie/darknet/master/cfg/yolov3-tiny.cfg\n",
            "Resolving raw.githubusercontent.com (raw.githubusercontent.com)... 185.199.111.133, 185.199.110.133, 185.199.109.133, ...\n",
            "Connecting to raw.githubusercontent.com (raw.githubusercontent.com)|185.199.111.133|:443... connected.\n",
            "HTTP request sent, awaiting response... 200 OK\n",
            "Length: 1915 (1.9K) [text/plain]\n",
            "Saving to: ‘yolov3-tiny.cfg’\n",
            "\n",
            "\ryolov3-tiny.cfg       0%[                    ]       0  --.-KB/s               \ryolov3-tiny.cfg     100%[===================>]   1.87K  --.-KB/s    in 0s      \n",
            "\n",
            "2025-05-22 13:45:32 (29.6 MB/s) - ‘yolov3-tiny.cfg’ saved [1915/1915]\n",
            "\n",
            "--2025-05-22 13:45:32--  https://pjreddie.com/media/files/yolov3-tiny.weights\n",
            "Resolving pjreddie.com (pjreddie.com)... 104.21.88.156, 172.67.185.199, 2606:4700:3037::6815:589c, ...\n",
            "Connecting to pjreddie.com (pjreddie.com)|104.21.88.156|:443... connected.\n",
            "HTTP request sent, awaiting response... 200 OK\n",
            "Length: unspecified [text/html]\n",
            "Saving to: ‘yolov3-tiny.weights’\n",
            "\n",
            "yolov3-tiny.weights     [ <=>                ]   8.88K  --.-KB/s    in 0s      \n",
            "\n",
            "2025-05-22 13:45:32 (79.0 MB/s) - ‘yolov3-tiny.weights’ saved [9093]\n",
            "\n",
            "--2025-05-22 13:45:33--  https://raw.githubusercontent.com/pjreddie/darknet/master/data/coco.names\n",
            "Resolving raw.githubusercontent.com (raw.githubusercontent.com)... 185.199.108.133, 185.199.109.133, 185.199.110.133, ...\n",
            "Connecting to raw.githubusercontent.com (raw.githubusercontent.com)|185.199.108.133|:443... connected.\n",
            "HTTP request sent, awaiting response... 200 OK\n",
            "Length: 625 [text/plain]\n",
            "Saving to: ‘coco.names’\n",
            "\n",
            "coco.names          100%[===================>]     625  --.-KB/s    in 0s      \n",
            "\n",
            "2025-05-22 13:45:33 (37.2 MB/s) - ‘coco.names’ saved [625/625]\n",
            "\n"
          ]
        }
      ]
    },
    {
      "cell_type": "code",
      "source": [
        "!git clone https://github.com/ultralytics/yolov5\n",
        "%cd yolov5\n",
        "!pip install -r requirements.txt\n",
        "\n",
        "\n"
      ],
      "metadata": {
        "colab": {
          "base_uri": "https://localhost:8080/"
        },
        "id": "6vyMjw-LPh2z",
        "outputId": "776c6f3c-281a-4c59-aac8-1d5e0c7a8175"
      },
      "execution_count": 16,
      "outputs": [
        {
          "output_type": "stream",
          "name": "stdout",
          "text": [
            "Cloning into 'yolov5'...\n",
            "remote: Enumerating objects: 17483, done.\u001b[K\n",
            "remote: Counting objects: 100% (107/107), done.\u001b[K\n",
            "remote: Compressing objects: 100% (77/77), done.\u001b[K\n",
            "remote: Total 17483 (delta 79), reused 30 (delta 30), pack-reused 17376 (from 4)\u001b[K\n",
            "Receiving objects: 100% (17483/17483), 16.33 MiB | 25.73 MiB/s, done.\n",
            "Resolving deltas: 100% (11983/11983), done.\n",
            "/content/object-detection-opencv/yolov5\n",
            "Requirement already satisfied: gitpython>=3.1.30 in /usr/local/lib/python3.11/dist-packages (from -r requirements.txt (line 5)) (3.1.44)\n",
            "Requirement already satisfied: matplotlib>=3.3 in /usr/local/lib/python3.11/dist-packages (from -r requirements.txt (line 6)) (3.10.0)\n",
            "Requirement already satisfied: numpy>=1.23.5 in /usr/local/lib/python3.11/dist-packages (from -r requirements.txt (line 7)) (2.0.2)\n",
            "Requirement already satisfied: opencv-python>=4.1.1 in /usr/local/lib/python3.11/dist-packages (from -r requirements.txt (line 8)) (4.11.0.86)\n",
            "Requirement already satisfied: pillow>=10.3.0 in /usr/local/lib/python3.11/dist-packages (from -r requirements.txt (line 9)) (11.2.1)\n",
            "Requirement already satisfied: psutil in /usr/local/lib/python3.11/dist-packages (from -r requirements.txt (line 10)) (5.9.5)\n",
            "Requirement already satisfied: PyYAML>=5.3.1 in /usr/local/lib/python3.11/dist-packages (from -r requirements.txt (line 11)) (6.0.2)\n",
            "Requirement already satisfied: requests>=2.32.2 in /usr/local/lib/python3.11/dist-packages (from -r requirements.txt (line 12)) (2.32.3)\n",
            "Requirement already satisfied: scipy>=1.4.1 in /usr/local/lib/python3.11/dist-packages (from -r requirements.txt (line 13)) (1.15.3)\n",
            "Collecting thop>=0.1.1 (from -r requirements.txt (line 14))\n",
            "  Downloading thop-0.1.1.post2209072238-py3-none-any.whl.metadata (2.7 kB)\n",
            "Requirement already satisfied: torch>=1.8.0 in /usr/local/lib/python3.11/dist-packages (from -r requirements.txt (line 15)) (2.6.0+cu124)\n",
            "Requirement already satisfied: torchvision>=0.9.0 in /usr/local/lib/python3.11/dist-packages (from -r requirements.txt (line 16)) (0.21.0+cu124)\n",
            "Requirement already satisfied: tqdm>=4.66.3 in /usr/local/lib/python3.11/dist-packages (from -r requirements.txt (line 17)) (4.67.1)\n",
            "Collecting ultralytics>=8.2.34 (from -r requirements.txt (line 18))\n",
            "  Downloading ultralytics-8.3.142-py3-none-any.whl.metadata (37 kB)\n",
            "Requirement already satisfied: pandas>=1.1.4 in /usr/local/lib/python3.11/dist-packages (from -r requirements.txt (line 27)) (2.2.2)\n",
            "Requirement already satisfied: seaborn>=0.11.0 in /usr/local/lib/python3.11/dist-packages (from -r requirements.txt (line 28)) (0.13.2)\n",
            "Requirement already satisfied: setuptools>=70.0.0 in /usr/local/lib/python3.11/dist-packages (from -r requirements.txt (line 42)) (75.2.0)\n",
            "Requirement already satisfied: gitdb<5,>=4.0.1 in /usr/local/lib/python3.11/dist-packages (from gitpython>=3.1.30->-r requirements.txt (line 5)) (4.0.12)\n",
            "Requirement already satisfied: contourpy>=1.0.1 in /usr/local/lib/python3.11/dist-packages (from matplotlib>=3.3->-r requirements.txt (line 6)) (1.3.2)\n",
            "Requirement already satisfied: cycler>=0.10 in /usr/local/lib/python3.11/dist-packages (from matplotlib>=3.3->-r requirements.txt (line 6)) (0.12.1)\n",
            "Requirement already satisfied: fonttools>=4.22.0 in /usr/local/lib/python3.11/dist-packages (from matplotlib>=3.3->-r requirements.txt (line 6)) (4.58.0)\n",
            "Requirement already satisfied: kiwisolver>=1.3.1 in /usr/local/lib/python3.11/dist-packages (from matplotlib>=3.3->-r requirements.txt (line 6)) (1.4.8)\n",
            "Requirement already satisfied: packaging>=20.0 in /usr/local/lib/python3.11/dist-packages (from matplotlib>=3.3->-r requirements.txt (line 6)) (24.2)\n",
            "Requirement already satisfied: pyparsing>=2.3.1 in /usr/local/lib/python3.11/dist-packages (from matplotlib>=3.3->-r requirements.txt (line 6)) (3.2.3)\n",
            "Requirement already satisfied: python-dateutil>=2.7 in /usr/local/lib/python3.11/dist-packages (from matplotlib>=3.3->-r requirements.txt (line 6)) (2.9.0.post0)\n",
            "Requirement already satisfied: charset-normalizer<4,>=2 in /usr/local/lib/python3.11/dist-packages (from requests>=2.32.2->-r requirements.txt (line 12)) (3.4.2)\n",
            "Requirement already satisfied: idna<4,>=2.5 in /usr/local/lib/python3.11/dist-packages (from requests>=2.32.2->-r requirements.txt (line 12)) (3.10)\n",
            "Requirement already satisfied: urllib3<3,>=1.21.1 in /usr/local/lib/python3.11/dist-packages (from requests>=2.32.2->-r requirements.txt (line 12)) (2.4.0)\n",
            "Requirement already satisfied: certifi>=2017.4.17 in /usr/local/lib/python3.11/dist-packages (from requests>=2.32.2->-r requirements.txt (line 12)) (2025.4.26)\n",
            "Requirement already satisfied: filelock in /usr/local/lib/python3.11/dist-packages (from torch>=1.8.0->-r requirements.txt (line 15)) (3.18.0)\n",
            "Requirement already satisfied: typing-extensions>=4.10.0 in /usr/local/lib/python3.11/dist-packages (from torch>=1.8.0->-r requirements.txt (line 15)) (4.13.2)\n",
            "Requirement already satisfied: networkx in /usr/local/lib/python3.11/dist-packages (from torch>=1.8.0->-r requirements.txt (line 15)) (3.4.2)\n",
            "Requirement already satisfied: jinja2 in /usr/local/lib/python3.11/dist-packages (from torch>=1.8.0->-r requirements.txt (line 15)) (3.1.6)\n",
            "Requirement already satisfied: fsspec in /usr/local/lib/python3.11/dist-packages (from torch>=1.8.0->-r requirements.txt (line 15)) (2025.3.2)\n",
            "Collecting nvidia-cuda-nvrtc-cu12==12.4.127 (from torch>=1.8.0->-r requirements.txt (line 15))\n",
            "  Downloading nvidia_cuda_nvrtc_cu12-12.4.127-py3-none-manylinux2014_x86_64.whl.metadata (1.5 kB)\n",
            "Collecting nvidia-cuda-runtime-cu12==12.4.127 (from torch>=1.8.0->-r requirements.txt (line 15))\n",
            "  Downloading nvidia_cuda_runtime_cu12-12.4.127-py3-none-manylinux2014_x86_64.whl.metadata (1.5 kB)\n",
            "Collecting nvidia-cuda-cupti-cu12==12.4.127 (from torch>=1.8.0->-r requirements.txt (line 15))\n",
            "  Downloading nvidia_cuda_cupti_cu12-12.4.127-py3-none-manylinux2014_x86_64.whl.metadata (1.6 kB)\n",
            "Collecting nvidia-cudnn-cu12==9.1.0.70 (from torch>=1.8.0->-r requirements.txt (line 15))\n",
            "  Downloading nvidia_cudnn_cu12-9.1.0.70-py3-none-manylinux2014_x86_64.whl.metadata (1.6 kB)\n",
            "Collecting nvidia-cublas-cu12==12.4.5.8 (from torch>=1.8.0->-r requirements.txt (line 15))\n",
            "  Downloading nvidia_cublas_cu12-12.4.5.8-py3-none-manylinux2014_x86_64.whl.metadata (1.5 kB)\n",
            "Collecting nvidia-cufft-cu12==11.2.1.3 (from torch>=1.8.0->-r requirements.txt (line 15))\n",
            "  Downloading nvidia_cufft_cu12-11.2.1.3-py3-none-manylinux2014_x86_64.whl.metadata (1.5 kB)\n",
            "Collecting nvidia-curand-cu12==10.3.5.147 (from torch>=1.8.0->-r requirements.txt (line 15))\n",
            "  Downloading nvidia_curand_cu12-10.3.5.147-py3-none-manylinux2014_x86_64.whl.metadata (1.5 kB)\n",
            "Collecting nvidia-cusolver-cu12==11.6.1.9 (from torch>=1.8.0->-r requirements.txt (line 15))\n",
            "  Downloading nvidia_cusolver_cu12-11.6.1.9-py3-none-manylinux2014_x86_64.whl.metadata (1.6 kB)\n",
            "Collecting nvidia-cusparse-cu12==12.3.1.170 (from torch>=1.8.0->-r requirements.txt (line 15))\n",
            "  Downloading nvidia_cusparse_cu12-12.3.1.170-py3-none-manylinux2014_x86_64.whl.metadata (1.6 kB)\n",
            "Requirement already satisfied: nvidia-cusparselt-cu12==0.6.2 in /usr/local/lib/python3.11/dist-packages (from torch>=1.8.0->-r requirements.txt (line 15)) (0.6.2)\n",
            "Requirement already satisfied: nvidia-nccl-cu12==2.21.5 in /usr/local/lib/python3.11/dist-packages (from torch>=1.8.0->-r requirements.txt (line 15)) (2.21.5)\n",
            "Requirement already satisfied: nvidia-nvtx-cu12==12.4.127 in /usr/local/lib/python3.11/dist-packages (from torch>=1.8.0->-r requirements.txt (line 15)) (12.4.127)\n",
            "Collecting nvidia-nvjitlink-cu12==12.4.127 (from torch>=1.8.0->-r requirements.txt (line 15))\n",
            "  Downloading nvidia_nvjitlink_cu12-12.4.127-py3-none-manylinux2014_x86_64.whl.metadata (1.5 kB)\n",
            "Requirement already satisfied: triton==3.2.0 in /usr/local/lib/python3.11/dist-packages (from torch>=1.8.0->-r requirements.txt (line 15)) (3.2.0)\n",
            "Requirement already satisfied: sympy==1.13.1 in /usr/local/lib/python3.11/dist-packages (from torch>=1.8.0->-r requirements.txt (line 15)) (1.13.1)\n",
            "Requirement already satisfied: mpmath<1.4,>=1.1.0 in /usr/local/lib/python3.11/dist-packages (from sympy==1.13.1->torch>=1.8.0->-r requirements.txt (line 15)) (1.3.0)\n",
            "Requirement already satisfied: py-cpuinfo in /usr/local/lib/python3.11/dist-packages (from ultralytics>=8.2.34->-r requirements.txt (line 18)) (9.0.0)\n",
            "Collecting ultralytics-thop>=2.0.0 (from ultralytics>=8.2.34->-r requirements.txt (line 18))\n",
            "  Downloading ultralytics_thop-2.0.14-py3-none-any.whl.metadata (9.4 kB)\n",
            "Requirement already satisfied: pytz>=2020.1 in /usr/local/lib/python3.11/dist-packages (from pandas>=1.1.4->-r requirements.txt (line 27)) (2025.2)\n",
            "Requirement already satisfied: tzdata>=2022.7 in /usr/local/lib/python3.11/dist-packages (from pandas>=1.1.4->-r requirements.txt (line 27)) (2025.2)\n",
            "Requirement already satisfied: smmap<6,>=3.0.1 in /usr/local/lib/python3.11/dist-packages (from gitdb<5,>=4.0.1->gitpython>=3.1.30->-r requirements.txt (line 5)) (5.0.2)\n",
            "Requirement already satisfied: six>=1.5 in /usr/local/lib/python3.11/dist-packages (from python-dateutil>=2.7->matplotlib>=3.3->-r requirements.txt (line 6)) (1.17.0)\n",
            "Requirement already satisfied: MarkupSafe>=2.0 in /usr/local/lib/python3.11/dist-packages (from jinja2->torch>=1.8.0->-r requirements.txt (line 15)) (3.0.2)\n",
            "Downloading thop-0.1.1.post2209072238-py3-none-any.whl (15 kB)\n",
            "Downloading nvidia_cublas_cu12-12.4.5.8-py3-none-manylinux2014_x86_64.whl (363.4 MB)\n",
            "\u001b[2K   \u001b[90m━━━━━━━━━━━━━━━━━━━━━━━━━━━━━━━━━━━━━━━━\u001b[0m \u001b[32m363.4/363.4 MB\u001b[0m \u001b[31m4.3 MB/s\u001b[0m eta \u001b[36m0:00:00\u001b[0m\n",
            "\u001b[?25hDownloading nvidia_cuda_cupti_cu12-12.4.127-py3-none-manylinux2014_x86_64.whl (13.8 MB)\n",
            "\u001b[2K   \u001b[90m━━━━━━━━━━━━━━━━━━━━━━━━━━━━━━━━━━━━━━━━\u001b[0m \u001b[32m13.8/13.8 MB\u001b[0m \u001b[31m66.9 MB/s\u001b[0m eta \u001b[36m0:00:00\u001b[0m\n",
            "\u001b[?25hDownloading nvidia_cuda_nvrtc_cu12-12.4.127-py3-none-manylinux2014_x86_64.whl (24.6 MB)\n",
            "\u001b[2K   \u001b[90m━━━━━━━━━━━━━━━━━━━━━━━━━━━━━━━━━━━━━━━━\u001b[0m \u001b[32m24.6/24.6 MB\u001b[0m \u001b[31m34.5 MB/s\u001b[0m eta \u001b[36m0:00:00\u001b[0m\n",
            "\u001b[?25hDownloading nvidia_cuda_runtime_cu12-12.4.127-py3-none-manylinux2014_x86_64.whl (883 kB)\n",
            "\u001b[2K   \u001b[90m━━━━━━━━━━━━━━━━━━━━━━━━━━━━━━━━━━━━━━━━\u001b[0m \u001b[32m883.7/883.7 kB\u001b[0m \u001b[31m40.6 MB/s\u001b[0m eta \u001b[36m0:00:00\u001b[0m\n",
            "\u001b[?25hDownloading nvidia_cudnn_cu12-9.1.0.70-py3-none-manylinux2014_x86_64.whl (664.8 MB)\n",
            "\u001b[2K   \u001b[90m━━━━━━━━━━━━━━━━━━━━━━━━━━━━━━━━━━━━━━━━\u001b[0m \u001b[32m664.8/664.8 MB\u001b[0m \u001b[31m2.7 MB/s\u001b[0m eta \u001b[36m0:00:00\u001b[0m\n",
            "\u001b[?25hDownloading nvidia_cufft_cu12-11.2.1.3-py3-none-manylinux2014_x86_64.whl (211.5 MB)\n",
            "\u001b[2K   \u001b[90m━━━━━━━━━━━━━━━━━━━━━━━━━━━━━━━━━━━━━━━━\u001b[0m \u001b[32m211.5/211.5 MB\u001b[0m \u001b[31m5.9 MB/s\u001b[0m eta \u001b[36m0:00:00\u001b[0m\n",
            "\u001b[?25hDownloading nvidia_curand_cu12-10.3.5.147-py3-none-manylinux2014_x86_64.whl (56.3 MB)\n",
            "\u001b[2K   \u001b[90m━━━━━━━━━━━━━━━━━━━━━━━━━━━━━━━━━━━━━━━━\u001b[0m \u001b[32m56.3/56.3 MB\u001b[0m \u001b[31m12.8 MB/s\u001b[0m eta \u001b[36m0:00:00\u001b[0m\n",
            "\u001b[?25hDownloading nvidia_cusolver_cu12-11.6.1.9-py3-none-manylinux2014_x86_64.whl (127.9 MB)\n",
            "\u001b[2K   \u001b[90m━━━━━━━━━━━━━━━━━━━━━━━━━━━━━━━━━━━━━━━━\u001b[0m \u001b[32m127.9/127.9 MB\u001b[0m \u001b[31m7.3 MB/s\u001b[0m eta \u001b[36m0:00:00\u001b[0m\n",
            "\u001b[?25hDownloading nvidia_cusparse_cu12-12.3.1.170-py3-none-manylinux2014_x86_64.whl (207.5 MB)\n",
            "\u001b[2K   \u001b[90m━━━━━━━━━━━━━━━━━━━━━━━━━━━━━━━━━━━━━━━━\u001b[0m \u001b[32m207.5/207.5 MB\u001b[0m \u001b[31m6.0 MB/s\u001b[0m eta \u001b[36m0:00:00\u001b[0m\n",
            "\u001b[?25hDownloading nvidia_nvjitlink_cu12-12.4.127-py3-none-manylinux2014_x86_64.whl (21.1 MB)\n",
            "\u001b[2K   \u001b[90m━━━━━━━━━━━━━━━━━━━━━━━━━━━━━━━━━━━━━━━━\u001b[0m \u001b[32m21.1/21.1 MB\u001b[0m \u001b[31m90.8 MB/s\u001b[0m eta \u001b[36m0:00:00\u001b[0m\n",
            "\u001b[?25hDownloading ultralytics-8.3.142-py3-none-any.whl (1.0 MB)\n",
            "\u001b[2K   \u001b[90m━━━━━━━━━━━━━━━━━━━━━━━━━━━━━━━━━━━━━━━━\u001b[0m \u001b[32m1.0/1.0 MB\u001b[0m \u001b[31m54.7 MB/s\u001b[0m eta \u001b[36m0:00:00\u001b[0m\n",
            "\u001b[?25hDownloading ultralytics_thop-2.0.14-py3-none-any.whl (26 kB)\n",
            "Installing collected packages: nvidia-nvjitlink-cu12, nvidia-curand-cu12, nvidia-cufft-cu12, nvidia-cuda-runtime-cu12, nvidia-cuda-nvrtc-cu12, nvidia-cuda-cupti-cu12, nvidia-cublas-cu12, nvidia-cusparse-cu12, nvidia-cudnn-cu12, nvidia-cusolver-cu12, ultralytics-thop, thop, ultralytics\n",
            "  Attempting uninstall: nvidia-nvjitlink-cu12\n",
            "    Found existing installation: nvidia-nvjitlink-cu12 12.5.82\n",
            "    Uninstalling nvidia-nvjitlink-cu12-12.5.82:\n",
            "      Successfully uninstalled nvidia-nvjitlink-cu12-12.5.82\n",
            "  Attempting uninstall: nvidia-curand-cu12\n",
            "    Found existing installation: nvidia-curand-cu12 10.3.6.82\n",
            "    Uninstalling nvidia-curand-cu12-10.3.6.82:\n",
            "      Successfully uninstalled nvidia-curand-cu12-10.3.6.82\n",
            "  Attempting uninstall: nvidia-cufft-cu12\n",
            "    Found existing installation: nvidia-cufft-cu12 11.2.3.61\n",
            "    Uninstalling nvidia-cufft-cu12-11.2.3.61:\n",
            "      Successfully uninstalled nvidia-cufft-cu12-11.2.3.61\n",
            "  Attempting uninstall: nvidia-cuda-runtime-cu12\n",
            "    Found existing installation: nvidia-cuda-runtime-cu12 12.5.82\n",
            "    Uninstalling nvidia-cuda-runtime-cu12-12.5.82:\n",
            "      Successfully uninstalled nvidia-cuda-runtime-cu12-12.5.82\n",
            "  Attempting uninstall: nvidia-cuda-nvrtc-cu12\n",
            "    Found existing installation: nvidia-cuda-nvrtc-cu12 12.5.82\n",
            "    Uninstalling nvidia-cuda-nvrtc-cu12-12.5.82:\n",
            "      Successfully uninstalled nvidia-cuda-nvrtc-cu12-12.5.82\n",
            "  Attempting uninstall: nvidia-cuda-cupti-cu12\n",
            "    Found existing installation: nvidia-cuda-cupti-cu12 12.5.82\n",
            "    Uninstalling nvidia-cuda-cupti-cu12-12.5.82:\n",
            "      Successfully uninstalled nvidia-cuda-cupti-cu12-12.5.82\n",
            "  Attempting uninstall: nvidia-cublas-cu12\n",
            "    Found existing installation: nvidia-cublas-cu12 12.5.3.2\n",
            "    Uninstalling nvidia-cublas-cu12-12.5.3.2:\n",
            "      Successfully uninstalled nvidia-cublas-cu12-12.5.3.2\n",
            "  Attempting uninstall: nvidia-cusparse-cu12\n",
            "    Found existing installation: nvidia-cusparse-cu12 12.5.1.3\n",
            "    Uninstalling nvidia-cusparse-cu12-12.5.1.3:\n",
            "      Successfully uninstalled nvidia-cusparse-cu12-12.5.1.3\n",
            "  Attempting uninstall: nvidia-cudnn-cu12\n",
            "    Found existing installation: nvidia-cudnn-cu12 9.3.0.75\n",
            "    Uninstalling nvidia-cudnn-cu12-9.3.0.75:\n",
            "      Successfully uninstalled nvidia-cudnn-cu12-9.3.0.75\n",
            "  Attempting uninstall: nvidia-cusolver-cu12\n",
            "    Found existing installation: nvidia-cusolver-cu12 11.6.3.83\n",
            "    Uninstalling nvidia-cusolver-cu12-11.6.3.83:\n",
            "      Successfully uninstalled nvidia-cusolver-cu12-11.6.3.83\n",
            "Successfully installed nvidia-cublas-cu12-12.4.5.8 nvidia-cuda-cupti-cu12-12.4.127 nvidia-cuda-nvrtc-cu12-12.4.127 nvidia-cuda-runtime-cu12-12.4.127 nvidia-cudnn-cu12-9.1.0.70 nvidia-cufft-cu12-11.2.1.3 nvidia-curand-cu12-10.3.5.147 nvidia-cusolver-cu12-11.6.1.9 nvidia-cusparse-cu12-12.3.1.170 nvidia-nvjitlink-cu12-12.4.127 thop-0.1.1.post2209072238 ultralytics-8.3.142 ultralytics-thop-2.0.14\n"
          ]
        }
      ]
    },
    {
      "cell_type": "code",
      "source": [
        "from google.colab import files\n",
        "uploaded = files.upload()  # Upload your ZIP file (e.g., archive 2.zip)\n"
      ],
      "metadata": {
        "colab": {
          "base_uri": "https://localhost:8080/",
          "height": 74
        },
        "id": "9EyQWDjNQUfH",
        "outputId": "0507222c-420b-4715-eef4-b3a697ae1feb"
      },
      "execution_count": 17,
      "outputs": [
        {
          "output_type": "display_data",
          "data": {
            "text/plain": [
              "<IPython.core.display.HTML object>"
            ],
            "text/html": [
              "\n",
              "     <input type=\"file\" id=\"files-03abeea1-8049-4ee6-a0de-331016701b72\" name=\"files[]\" multiple disabled\n",
              "        style=\"border:none\" />\n",
              "     <output id=\"result-03abeea1-8049-4ee6-a0de-331016701b72\">\n",
              "      Upload widget is only available when the cell has been executed in the\n",
              "      current browser session. Please rerun this cell to enable.\n",
              "      </output>\n",
              "      <script>// Copyright 2017 Google LLC\n",
              "//\n",
              "// Licensed under the Apache License, Version 2.0 (the \"License\");\n",
              "// you may not use this file except in compliance with the License.\n",
              "// You may obtain a copy of the License at\n",
              "//\n",
              "//      http://www.apache.org/licenses/LICENSE-2.0\n",
              "//\n",
              "// Unless required by applicable law or agreed to in writing, software\n",
              "// distributed under the License is distributed on an \"AS IS\" BASIS,\n",
              "// WITHOUT WARRANTIES OR CONDITIONS OF ANY KIND, either express or implied.\n",
              "// See the License for the specific language governing permissions and\n",
              "// limitations under the License.\n",
              "\n",
              "/**\n",
              " * @fileoverview Helpers for google.colab Python module.\n",
              " */\n",
              "(function(scope) {\n",
              "function span(text, styleAttributes = {}) {\n",
              "  const element = document.createElement('span');\n",
              "  element.textContent = text;\n",
              "  for (const key of Object.keys(styleAttributes)) {\n",
              "    element.style[key] = styleAttributes[key];\n",
              "  }\n",
              "  return element;\n",
              "}\n",
              "\n",
              "// Max number of bytes which will be uploaded at a time.\n",
              "const MAX_PAYLOAD_SIZE = 100 * 1024;\n",
              "\n",
              "function _uploadFiles(inputId, outputId) {\n",
              "  const steps = uploadFilesStep(inputId, outputId);\n",
              "  const outputElement = document.getElementById(outputId);\n",
              "  // Cache steps on the outputElement to make it available for the next call\n",
              "  // to uploadFilesContinue from Python.\n",
              "  outputElement.steps = steps;\n",
              "\n",
              "  return _uploadFilesContinue(outputId);\n",
              "}\n",
              "\n",
              "// This is roughly an async generator (not supported in the browser yet),\n",
              "// where there are multiple asynchronous steps and the Python side is going\n",
              "// to poll for completion of each step.\n",
              "// This uses a Promise to block the python side on completion of each step,\n",
              "// then passes the result of the previous step as the input to the next step.\n",
              "function _uploadFilesContinue(outputId) {\n",
              "  const outputElement = document.getElementById(outputId);\n",
              "  const steps = outputElement.steps;\n",
              "\n",
              "  const next = steps.next(outputElement.lastPromiseValue);\n",
              "  return Promise.resolve(next.value.promise).then((value) => {\n",
              "    // Cache the last promise value to make it available to the next\n",
              "    // step of the generator.\n",
              "    outputElement.lastPromiseValue = value;\n",
              "    return next.value.response;\n",
              "  });\n",
              "}\n",
              "\n",
              "/**\n",
              " * Generator function which is called between each async step of the upload\n",
              " * process.\n",
              " * @param {string} inputId Element ID of the input file picker element.\n",
              " * @param {string} outputId Element ID of the output display.\n",
              " * @return {!Iterable<!Object>} Iterable of next steps.\n",
              " */\n",
              "function* uploadFilesStep(inputId, outputId) {\n",
              "  const inputElement = document.getElementById(inputId);\n",
              "  inputElement.disabled = false;\n",
              "\n",
              "  const outputElement = document.getElementById(outputId);\n",
              "  outputElement.innerHTML = '';\n",
              "\n",
              "  const pickedPromise = new Promise((resolve) => {\n",
              "    inputElement.addEventListener('change', (e) => {\n",
              "      resolve(e.target.files);\n",
              "    });\n",
              "  });\n",
              "\n",
              "  const cancel = document.createElement('button');\n",
              "  inputElement.parentElement.appendChild(cancel);\n",
              "  cancel.textContent = 'Cancel upload';\n",
              "  const cancelPromise = new Promise((resolve) => {\n",
              "    cancel.onclick = () => {\n",
              "      resolve(null);\n",
              "    };\n",
              "  });\n",
              "\n",
              "  // Wait for the user to pick the files.\n",
              "  const files = yield {\n",
              "    promise: Promise.race([pickedPromise, cancelPromise]),\n",
              "    response: {\n",
              "      action: 'starting',\n",
              "    }\n",
              "  };\n",
              "\n",
              "  cancel.remove();\n",
              "\n",
              "  // Disable the input element since further picks are not allowed.\n",
              "  inputElement.disabled = true;\n",
              "\n",
              "  if (!files) {\n",
              "    return {\n",
              "      response: {\n",
              "        action: 'complete',\n",
              "      }\n",
              "    };\n",
              "  }\n",
              "\n",
              "  for (const file of files) {\n",
              "    const li = document.createElement('li');\n",
              "    li.append(span(file.name, {fontWeight: 'bold'}));\n",
              "    li.append(span(\n",
              "        `(${file.type || 'n/a'}) - ${file.size} bytes, ` +\n",
              "        `last modified: ${\n",
              "            file.lastModifiedDate ? file.lastModifiedDate.toLocaleDateString() :\n",
              "                                    'n/a'} - `));\n",
              "    const percent = span('0% done');\n",
              "    li.appendChild(percent);\n",
              "\n",
              "    outputElement.appendChild(li);\n",
              "\n",
              "    const fileDataPromise = new Promise((resolve) => {\n",
              "      const reader = new FileReader();\n",
              "      reader.onload = (e) => {\n",
              "        resolve(e.target.result);\n",
              "      };\n",
              "      reader.readAsArrayBuffer(file);\n",
              "    });\n",
              "    // Wait for the data to be ready.\n",
              "    let fileData = yield {\n",
              "      promise: fileDataPromise,\n",
              "      response: {\n",
              "        action: 'continue',\n",
              "      }\n",
              "    };\n",
              "\n",
              "    // Use a chunked sending to avoid message size limits. See b/62115660.\n",
              "    let position = 0;\n",
              "    do {\n",
              "      const length = Math.min(fileData.byteLength - position, MAX_PAYLOAD_SIZE);\n",
              "      const chunk = new Uint8Array(fileData, position, length);\n",
              "      position += length;\n",
              "\n",
              "      const base64 = btoa(String.fromCharCode.apply(null, chunk));\n",
              "      yield {\n",
              "        response: {\n",
              "          action: 'append',\n",
              "          file: file.name,\n",
              "          data: base64,\n",
              "        },\n",
              "      };\n",
              "\n",
              "      let percentDone = fileData.byteLength === 0 ?\n",
              "          100 :\n",
              "          Math.round((position / fileData.byteLength) * 100);\n",
              "      percent.textContent = `${percentDone}% done`;\n",
              "\n",
              "    } while (position < fileData.byteLength);\n",
              "  }\n",
              "\n",
              "  // All done.\n",
              "  yield {\n",
              "    response: {\n",
              "      action: 'complete',\n",
              "    }\n",
              "  };\n",
              "}\n",
              "\n",
              "scope.google = scope.google || {};\n",
              "scope.google.colab = scope.google.colab || {};\n",
              "scope.google.colab._files = {\n",
              "  _uploadFiles,\n",
              "  _uploadFilesContinue,\n",
              "};\n",
              "})(self);\n",
              "</script> "
            ]
          },
          "metadata": {}
        },
        {
          "output_type": "stream",
          "name": "stdout",
          "text": [
            "Saving archive 2.zip to archive 2.zip\n"
          ]
        }
      ]
    },
    {
      "cell_type": "code",
      "source": [
        "import zipfile\n",
        "import os\n",
        "\n",
        "with zipfile.ZipFile(\"archive 2.zip\", 'r') as zip_ref:\n",
        "    zip_ref.extractall(\"images\")\n"
      ],
      "metadata": {
        "id": "2jcc30B0RmWz"
      },
      "execution_count": 18,
      "outputs": []
    },
    {
      "cell_type": "code",
      "source": [
        "import os\n",
        "\n",
        "# Check what's inside the images folder\n",
        "print(\"Contents of 'images' folder:\", os.listdir(\"images\"))\n",
        "\n",
        "# Filter image files\n",
        "image_files = [f for f in os.listdir(\"images\") if f.lower().endswith(('.jpg', '.jpeg', '.png'))]\n",
        "print(\"Image files found:\", image_files)\n"
      ],
      "metadata": {
        "colab": {
          "base_uri": "https://localhost:8080/"
        },
        "id": "Iwqs4EW_Rodr",
        "outputId": "d2e7cebf-3e3b-4ed8-8760-a0c9de5ba6f0"
      },
      "execution_count": 20,
      "outputs": [
        {
          "output_type": "stream",
          "name": "stdout",
          "text": [
            "Contents of 'images' folder: ['test', 'README.roboflow.txt', 'train', 'valid', 'README.dataset.txt', 'data.yaml']\n",
            "Image files found: []\n"
          ]
        }
      ]
    },
    {
      "cell_type": "code",
      "source": [
        "import glob\n",
        "\n",
        "# Get all image files from 'images' folder and subfolders\n",
        "image_files = glob.glob(\"images/**/*.jpg\", recursive=True)\n",
        "image_files += glob.glob(\"images/**/*.png\", recursive=True)\n",
        "image_files += glob.glob(\"images/**/*.jpeg\", recursive=True)\n",
        "\n",
        "print(\"Total images found:\", len(image_files))\n"
      ],
      "metadata": {
        "colab": {
          "base_uri": "https://localhost:8080/"
        },
        "id": "KTW51QiESHPh",
        "outputId": "9131b2a2-dbe2-4c4f-cdca-677e1e8effa5"
      },
      "execution_count": 21,
      "outputs": [
        {
          "output_type": "stream",
          "name": "stdout",
          "text": [
            "Total images found: 334\n"
          ]
        }
      ]
    },
    {
      "cell_type": "code",
      "source": [
        "import torch\n",
        "from IPython.display import Image, display\n",
        "from pathlib import Path\n",
        "import glob\n",
        "\n",
        "# Load pretrained model\n",
        "model = torch.hub.load('ultralytics/yolov5', 'yolov5s')\n",
        "\n",
        "# Find all image files in the extracted ZIP folder\n",
        "image_files = glob.glob(\"images/**/*.jpg\", recursive=True)\n",
        "image_files += glob.glob(\"images/**/*.jpeg\", recursive=True)\n",
        "image_files += glob.glob(\"images/**/*.png\", recursive=True)\n",
        "\n",
        "print(\"Images found:\", image_files)\n",
        "\n",
        "# Run YOLOv5 on first image\n",
        "results = model(image_files[0])\n",
        "results.save()\n",
        "\n",
        "# Display result\n",
        "output_path = list(Path(\"runs/detect/exp\").glob(\"*.jpg\"))[0]\n",
        "display(Image(filename=output_path))\n"
      ],
      "metadata": {
        "colab": {
          "base_uri": "https://localhost:8080/",
          "height": 859
        },
        "id": "AFFk1vBsSKp6",
        "outputId": "86bf84a4-23db-4de8-84cf-3dad5f0c74a6"
      },
      "execution_count": 22,
      "outputs": [
        {
          "output_type": "stream",
          "name": "stderr",
          "text": [
            "Using cache found in /root/.cache/torch/hub/ultralytics_yolov5_master\n",
            "YOLOv5 🚀 2025-5-22 Python-3.11.12 torch-2.6.0+cu124 CPU\n",
            "\n",
            "Fusing layers... \n",
            "YOLOv5s summary: 213 layers, 7225885 parameters, 0 gradients, 16.4 GFLOPs\n",
            "Adding AutoShape... \n",
            "/root/.cache/torch/hub/ultralytics_yolov5_master/models/common.py:906: FutureWarning: `torch.cuda.amp.autocast(args...)` is deprecated. Please use `torch.amp.autocast('cuda', args...)` instead.\n",
            "  with amp.autocast(autocast):\n"
          ]
        },
        {
          "output_type": "stream",
          "name": "stdout",
          "text": [
            "Images found: ['images/test/images/A3114_png.rf.f4a0413ef2aa1b6ed57c42636bd72710.jpg', 'images/test/images/B13_png.rf.635b188e80c671fc3834adb8f31e9c63.jpg', 'images/test/images/C0_png.rf.c894157c985e527c1c3542e7082288a4.jpg', 'images/test/images/A278_png.rf.68c1fc632479ecfe3a864ed8df7a6d6f.jpg', 'images/test/images/A110_png.rf.1f28fa2dca18359f598f758646a23aa3.jpg', 'images/test/images/A393_png.rf.1f9bbf7f720c8e2f759e46c3d02ea506.jpg', 'images/test/images/B14_png.rf.d5445fdb51353f1564becfe3c0db2c22.jpg', 'images/test/images/A2187_png.rf.53af91f578bce07023d7782ae5f7512b.jpg', 'images/test/images/B11_png.rf.159b1341db821a499ba6ec4b494c7e87.jpg', 'images/test/images/C5_png.rf.67cb80feacf14a98e56cac89e3047adc.jpg', 'images/test/images/A133_png.rf.12680de70b2c8169a00f94bb8d563bc9.jpg', 'images/test/images/C7_png.rf.726b495ba5fbfc0c4f85e3afedc0bb1a.jpg', 'images/test/images/Z24_png.rf.7dcda2aca73825cea5cad82b6aaf1d62.jpg', 'images/test/images/B0_png.rf.e2a031955553eb745ddca7df4640a4e5.jpg', 'images/test/images/C6_png.rf.7eaf80daffcdd852fb250567f1b93388.jpg', 'images/test/images/A317_png.rf.39ea4ff9bea0fe9bfcbfa3e7cd9030c7.jpg', 'images/test/images/C1_png.rf.ad3c41b09e9b0fcd8ff102e7e9ca1f14.jpg', 'images/test/images/Z35_png.rf.42eafc354e23bdd6546cb60f78da6a11.jpg', 'images/test/images/A11_png.rf.7c184c3dffe9372ab86e5e7bcce2f210.jpg', 'images/test/images/A10_png.rf.392693ab4e5d4d9245ec9ab96ad93815.jpg', 'images/test/images/A10_png.rf.9d5bd039e76fb95a256426daf5a4d59e.jpg', 'images/test/images/A219_png.rf.cfec417dc9b10a63f3621ed889c6af25.jpg', 'images/train/images/1026003_png.rf.9e9d6c6ca887a6ff3773e9c8dd0a65da.jpg', 'images/train/images/10227_png.rf.4dc5cf954e1c5b739bdacb8eb6b13e1f.jpg', 'images/train/images/Z46_png.rf.0119849cc01bbd2105b27db41bac5f0b.jpg', 'images/train/images/33_png.rf.026219650768f129a30e26017e4162b2.jpg', 'images/train/images/29_png.rf.57a2a1517f3ce303dcb11ea57a434bc4.jpg', 'images/train/images/A38_png.rf.f8491beafb3627f63eee17af91687be0.jpg', 'images/train/images/2_png.rf.db370d289382222dc495239a5072d42e.jpg', 'images/train/images/10260070012_png.rf.36e0062719ca8a1bf0e774e8d5d1cded.jpg', 'images/train/images/102598_png.rf.b0fd0697c91918bd9aeab60edddeaa6e.jpg', 'images/train/images/10260070021_png.rf.95253d773d80d30c8aff608e96607a9d.jpg', 'images/train/images/102580_png.rf.70599f6896b9b3f6c638e6938a3655ad.jpg', 'images/train/images/10224_png.rf.b25c9d9603096efb5acb6b001761295d.jpg', 'images/train/images/1020_png.rf.63110f5780da03f38981cf174a388cb1.jpg', 'images/train/images/10260022_png.rf.137cdc439f561daf30d02d8e7b214eab.jpg', 'images/train/images/102567_png.rf.718444ef603e30398413a686916693df.jpg', 'images/train/images/10260029_png.rf.de65ef6b5bb51cd92966fbfb88c1ef48.jpg', 'images/train/images/102565_png.rf.7b95a1fe8dbc7e3d41d3fb7d9421d69d.jpg', 'images/train/images/1026007009_png.rf.1e77e539e9bcdd78e76118901002b287.jpg', 'images/train/images/Z40_png.rf.6853b7ba28b8e4173dec4071320f7a66.jpg', 'images/train/images/1_png.rf.29e62f7693bc141fc2e9847ff065113a.jpg', 'images/train/images/A39_png.rf.128ac4b9fafa53ec5a6f095c75f7a9d8.jpg', 'images/train/images/1028_png.rf.5d4bfbd41cc1715386efe9cec52361e5.jpg', 'images/train/images/51_png.rf.47820328b91c7ed01ce6a174dd1c026a.jpg', 'images/train/images/41_png.rf.c2964657cdaaf90ef26d646ba603a836.jpg', 'images/train/images/A42_png.rf.da54b85583e5928483d670f755cc6942.jpg', 'images/train/images/Z32_png.rf.d9d88f04ea0c9e62a8e613c26883d177.jpg', 'images/train/images/10260019_png.rf.ea6e8383055724c07414d5ec2d1dc0f0.jpg', 'images/train/images/A8_png.rf.1764e40571a1e7d9e2ec0b14d7b93040.jpg', 'images/train/images/67_png.rf.5636b2e8f584bcbd75250f5ef10e12a2.jpg', 'images/train/images/102587_png.rf.e52ad37b27240ce49b89969f13c210cc.jpg', 'images/train/images/10260070013_png.rf.0a6d032469d5afe265e63c5d64eda53b.jpg', 'images/train/images/102589_png.rf.4b97c54d295c8cf39d8c51a4f40e7ec1.jpg', 'images/train/images/60_png.rf.6e74321dc8e2ee3af4591628fd247371.jpg', 'images/train/images/102596_png.rf.bb014d3799ded750fc6036d10c9a20ed.jpg', 'images/train/images/10260016_png.rf.b27690666e39c39f345c4b0085895285.jpg', 'images/train/images/102595_png.rf.dca5ee2615663f5582907dd80413b026.jpg', 'images/train/images/47_png.rf.297cd985a0fd2ebe71b3cc3c723975e8.jpg', 'images/train/images/10217_png.rf.f953e70024f256ed9911d5ee39b30425.jpg', 'images/train/images/102_png.rf.a6523b5448bcf2a989620b06566c4d29.jpg', 'images/train/images/45_png.rf.8ede2d08de0a8d62df77a861cfd6c69d.jpg', 'images/train/images/102576_png.rf.4b45989a37caf93ead8cc9307346820a.jpg', 'images/train/images/102560_png.rf.31c2153c6530d0d070f8cf35fbcb9fbd.jpg', 'images/train/images/B2_png.rf.9699a15807ebebb521baf8b4830d386d.jpg', 'images/train/images/101_png.rf.8f43be8bbf543d29db78994fd72d6bd9.jpg', 'images/train/images/B3_png.rf.4a8758f65f9d0fcaa39cdae3e6129b84.jpg', 'images/train/images/B1_png.rf.288a84986e36dcafa69a083488be97c8.jpg', 'images/train/images/10260033_png.rf.25a33ac61a32ebd0a834e43f7d074fb0.jpg', 'images/train/images/10260027_png.rf.516ffc3542468bdba470601834b4672b.jpg', 'images/train/images/10226_png.rf.f4e56b48bdddad0eefd4e238d8897a93.jpg', 'images/train/images/Z16_png.rf.514ea95ca59dff7e4b6d0de188e19de0.jpg', 'images/train/images/10260026_png.rf.409c0287329ad16a8079c1d486c224d2.jpg', 'images/train/images/53_png.rf.1f8ae07367a72e0f10c2da2dfaf492a0.jpg', 'images/train/images/102582_png.rf.b731274d89b790909b73e02f7691f4a5.jpg', 'images/train/images/B8_png.rf.b614cf10950117261f1931878579885a.jpg', 'images/train/images/15_png.rf.a931afb13f3e524ad8f5c20db1685325.jpg', 'images/train/images/102594_png.rf.d036a8b5e3a7c56e9cf6f4b49c73fccd.jpg', 'images/train/images/10260031_png.rf.6a44e6aaf616ac765470d8e27816984f.jpg', 'images/train/images/102600700264_png.rf.184d82bae534a9746d67fb349b6cca24.jpg', 'images/train/images/Z22_png.rf.0eb973fae1eda189670c351d1e7e0d32.jpg', 'images/train/images/102592_png.rf.058239f6daf7103f6d21d0df018d51d0.jpg', 'images/train/images/4_png.rf.65cc00527d6df343f6d5e37c10aa72c2.jpg', 'images/train/images/1026006_png.rf.2e2fa057037fab476a1d362c7bc2b094.jpg', 'images/train/images/31_png.rf.b9c7c0b7733931ad0b4e66fcc55310b6.jpg', 'images/train/images/A12_png.rf.46420ad98f7de5846b0b444e21f965cf.jpg', 'images/train/images/10213_png.rf.05d3ac4f9978f41b9b73c95864c2a6d1.jpg', 'images/train/images/10260014_png.rf.f656c4b49fac4e0f294ba7ea1de041d9.jpg', 'images/train/images/A9_png.rf.60e9a73901fc7153d529b473b2e87bbd.jpg', 'images/train/images/1026009_png.rf.1f250421b5e81a74b05e38637d74d321.jpg', 'images/train/images/10221_png.rf.5dfb46183fd28d34e83e02f9bcab9bbe.jpg', 'images/train/images/1026007_png.rf.3b7a6f33a0a2632c8d21de12dc0a54f8.jpg', 'images/train/images/Z23_png.rf.3592ae0f0b7c9ef2fa764bf3e883a6cc.jpg', 'images/train/images/A5_png.rf.4e7c11f5943b6e42434feb0319c364e7.jpg', 'images/train/images/32_png.rf.811175e156a568280273fbb29fa36c08.jpg', 'images/train/images/48_png.rf.9e267070897f9c271d251704f0320e87.jpg', 'images/train/images/102584_png.rf.c93bcc1fb4983ff2aaf9af72beed33a1.jpg', 'images/train/images/5_png.rf.bdbc89dcc930028c12142d7b44deea76.jpg', 'images/train/images/10260020_png.rf.b75599154162c83a98d0204d90721803.jpg', 'images/train/images/10260021_png.rf.d99a54d5d2ad515b01be451011eae030.jpg', 'images/train/images/Z29_png.rf.e35392a40cfe6e0fd7d68aa3bef8f53b.jpg', 'images/train/images/46_png.rf.ebe71aead8438a9933cd7f8345b84b5a.jpg', 'images/train/images/Z0_png.rf.7589ef6c9f849791618183dcd676fd3e.jpg', 'images/train/images/34_png.rf.f2a729461bfef41a197bf2b7ef485f7f.jpg', 'images/train/images/65_png.rf.86bf25086f4cf02473d9d006dae77336.jpg', 'images/train/images/10260070018_png.rf.09e51232747b2e9b1b567f3c9033df0c.jpg', 'images/train/images/10210_png.rf.555ae7cf9edba895da5eb34c79a013df.jpg', 'images/train/images/Z6_png.rf.009d7498073086cd8a7eacf27a58f036.jpg', 'images/train/images/10212_png.rf.334ddd4c88a3f03701a6ad6d345fe38f.jpg', 'images/train/images/102590_png.rf.171672cbbffdb4aff193cba5e7606b19.jpg', 'images/train/images/A15_png.rf.564e3478bf029e49fb4d63d10c45164f.jpg', 'images/train/images/16_png.rf.7754fcc2e26f80177f4f9504b41b3eb5.jpg', 'images/train/images/102570_png.rf.69cf49735cc32cc361bcadce68cd164d.jpg', 'images/train/images/44_png.rf.80924fec64ab74d52e470261696d6934.jpg', 'images/train/images/Z31_png.rf.76ae2363d30e2b90027b051cd70b8067.jpg', 'images/train/images/30_png.rf.0d2bd46227da6e85b8adcd8591192272.jpg', 'images/train/images/10260023_png.rf.b15392c10228cdc327576065f581fc33.jpg', 'images/train/images/10211_png.rf.7eb9e093271548687dac6c4ecc93b2fc.jpg', 'images/train/images/A7_png.rf.d61e9665082e698f88b2b4a3c1a7bbff.jpg', 'images/train/images/Z49_png.rf.268b3095a9dd465a0fa2e2fdf67d7bd8.jpg', 'images/train/images/6_png.rf.e8eee68cc18ccb10d423eece8e0c2fd7.jpg', 'images/train/images/1026005_png.rf.f878f14118e683a606cd0f4e6239dcc4.jpg', 'images/train/images/10260070011_png.rf.3532a72f039d05bd928a4b47ecf5f757.jpg', 'images/train/images/11_png.rf.7061852fd0d9b71f3fd33facb0776aee.jpg', 'images/train/images/102562_png.rf.d9621a728222a1b8b6b4f79e6802637d.jpg', 'images/train/images/50_png.rf.348618f811d97238f673ac0d94d99063.jpg', 'images/train/images/10260070022_png.rf.c6d19033b80b8881d5bb07be81dc61e2.jpg', 'images/train/images/102561_png.rf.c235c0758f391810e97768ecb0e90dfb.jpg', 'images/train/images/42_png.rf.9dc35fe6cab34c66f78a0ae303cee5d9.jpg', 'images/train/images/10260015_png.rf.0faff0b92d5d87139228056866335096.jpg', 'images/train/images/1026004_png.rf.c74e33c7ba5ad8e87d4e3522f73adc04.jpg', 'images/train/images/102579_png.rf.9a31fa97b3d696be55b35ca38b77ba96.jpg', 'images/train/images/10220_png.rf.e648a97bc06a29be8cc371c326ffd320.jpg', 'images/train/images/1026007006_png.rf.ca8e9a75d2e4eb22818255c6c94140e5.jpg', 'images/train/images/13_png.rf.ed08a20ba9ea4a06a6a9fe8ece989e7d.jpg', 'images/train/images/B15_png.rf.3cbfb154454e23a4b2596ead48c448f8.jpg', 'images/train/images/102574_png.rf.cadf66610184715d607eae3822b1c16f.jpg', 'images/train/images/102558_png.rf.2cf090a749954cea1ab8314d76b99624.jpg', 'images/train/images/Z12_png.rf.b4482f4376f0b92ca3fdf6b37f24a864.jpg', 'images/train/images/27_png.rf.227151fc80e203d3d9f138f812f9b658.jpg', 'images/train/images/8_png.rf.afea823706bc80281dba35d7a993f28a.jpg', 'images/train/images/102557_png.rf.b0017dafcad49b8aca70ca888698aae1.jpg', 'images/train/images/71_png.rf.a5a277b4ffa88309c26b97a4ca0ec550.jpg', 'images/train/images/20_png.rf.79dd1b2fdad44b0af008cb9017714343.jpg', 'images/train/images/22_png.rf.3292caf7904a6852e7a3d4b968e9a9e9.jpg', 'images/train/images/Z4_png.rf.1c5f2f053f15fa0426b5415f94788e30.jpg', 'images/train/images/Z3_png.rf.3bcb5b7d11753dfe38dc1bfd0b6ad8a0.jpg', 'images/train/images/102566_png.rf.a9d16785245f5571e51ef5120221a255.jpg', 'images/train/images/102573_png.rf.3d5adaa5b74054b9f6b740c71bb76fd5.jpg', 'images/train/images/Z52_png.rf.c7ad7aa5c47d2323ef2213ea8b552557.jpg', 'images/train/images/A13_png.rf.04ecc755ef3873be598ff4a2802b4c5e.jpg', 'images/train/images/1024_png.rf.d6727522c51c58632934fe4ec310d14c.jpg', 'images/train/images/A11_png.rf.53decf546bea788d0bf2570f8ed3b3b9.jpg', 'images/train/images/10260070010_png.rf.969fab1cbca308397771fb8c457524b4.jpg', 'images/train/images/62_png.rf.5c58d56a50e09171f39a46bcb4ebf44d.jpg', 'images/train/images/1026007004_png.rf.f017a46c7124cced4ac2098f31d1a3a5.jpg', 'images/train/images/1026007008_png.rf.7ed876c50aa8f30053e6aacaf76ddd15.jpg', 'images/train/images/102581_png.rf.ff63e56dd4d4bcdc323e4ae2f0193138.jpg', 'images/train/images/1026001_png.rf.3a153e374e37b0531f9a718ccb623d1c.jpg', 'images/train/images/1026007007_png.rf.66a7d019d8a5d6747f106e66dd0ddc6a.jpg', 'images/train/images/1026002_png.rf.7b96766d1c786c5a90dbe4180ac6f6ca.jpg', 'images/train/images/Z100_png.rf.3a6ba64b126f5d712d63ba5f76b0d5f5.jpg', 'images/train/images/Z47_png.rf.f2b1d874c1a5bb16b688f28a5abc3280.jpg', 'images/train/images/102577_png.rf.21fbb6eb8dac3e13a975d03867825e32.jpg', 'images/train/images/A14_png.rf.0160f3072a3b624a113142ad8b1d0c70.jpg', 'images/train/images/39_png.rf.cdf1736adb098dd390ad7cf39eeef963.jpg', 'images/train/images/10260070015_png.rf.33a83e5c03926047b68e70efad0960f6.jpg', 'images/train/images/102600_png.rf.62feb869cc4862f5fca210cdd4b8dd53.jpg', 'images/train/images/9_png.rf.a3591d548f3a955f546a4a73e89246e5.jpg', 'images/train/images/10223_png.rf.8eb800265581ab0a4e647abd11c54646.jpg', 'images/train/images/10260024_png.rf.65c90077290283cb7d0b5875c6673d26.jpg', 'images/train/images/70_png.rf.d89cc908b96b3b908197dae505f319e8.jpg', 'images/train/images/Z25_png.rf.8c7516ee8d30a1ecdfb6ccca895f1271.jpg', 'images/train/images/36_png.rf.91741f2e3f4d35ca6895dcf2f503d88a.jpg', 'images/train/images/25_png.rf.ba4ebf47acf30538dd2501a25928b598.jpg', 'images/train/images/0_png.rf.85255ba703f2d5fe68e4250f55a03c4b.jpg', 'images/train/images/59_png.rf.4d9cbf90adcb27cc928ec77e21e591a4.jpg', 'images/train/images/37_png.rf.efd671527e13326be57033f24e77b7d7.jpg', 'images/train/images/Z20_png.rf.3f7e9e1aa192878aafe892139aa6d317.jpg', 'images/train/images/Z18_png.rf.1c375775c6c58f1783371a9e0ccaa1e6.jpg', 'images/train/images/102568_png.rf.2b89431421354a5b8fc03f8855246a5d.jpg', 'images/train/images/10_png.rf.b227ec4b7e79a086f98aed6dde9e669a.jpg', 'images/train/images/1026000_png.rf.ed77c10fad9abc470cab8a072a532798.jpg', 'images/train/images/12_png.rf.aba5bcf83ab8936fc738f586e8340d9c.jpg', 'images/train/images/10218_png.rf.9ad70f29f265c961e5a9c50b137a9c5b.jpg', 'images/train/images/102572_png.rf.8f2c4cd216c4b6e4705f0106c03bb7c4.jpg', 'images/train/images/102564_png.rf.1911bdee1e02554b64efd028b90d76e8.jpg', 'images/train/images/102586_png.rf.323c11bafea816d5b436314b66e31e4e.jpg', 'images/train/images/10260070014_png.rf.2307b042991f8add973527feed8c3dd2.jpg', 'images/train/images/18_png.rf.e5b4a1d2989b64bb13dc56a3819ff05e.jpg', 'images/train/images/10216_png.rf.410c7e9ad1b58257ed5fbda3a7d6b839.jpg', 'images/train/images/10260070016_png.rf.de90a499a5e795e5b02aeeafd3790ef3.jpg', 'images/train/images/Z39_png.rf.759582017625e38d68cc2a116bc4071b.jpg', 'images/train/images/Z10_png.rf.be636b9a9970116fe52138887e049d64.jpg', 'images/train/images/23_png.rf.74f28242114581fcf58d49beef1e61ac.jpg', 'images/train/images/102571_png.rf.9369cedf00a6e3402b081422dd1b8231.jpg', 'images/train/images/A37_png.rf.6b6c9df4845ea51504ff7fdb660d88ab.jpg', 'images/train/images/10260018_png.rf.9ea697548a8958af5e5fd0c2a99486cf.jpg', 'images/train/images/55_png.rf.af61b6383ffed61034ec1c5dd9a5527c.jpg', 'images/train/images/102597_png.rf.efa6dc9ddd630fe7581122692d80de9c.jpg', 'images/train/images/1026_png.rf.f53371d958a2ca667ff5eaf92526f5a8.jpg', 'images/train/images/1026008_png.rf.a3dfdcfdc9cd605b3d26e3a4550107ac.jpg', 'images/train/images/102591_png.rf.6374b72228d2ecc3803fb01dba1755ad.jpg', 'images/train/images/10260070020_png.rf.178af0020210c9a464d9a2cdac0f6a53.jpg', 'images/train/images/B7_png.rf.9276dc17e5f75d0629b374bd75b5fc34.jpg', 'images/train/images/38_png.rf.2c4cdb5e5475e8722b98ec0a8079956e.jpg', 'images/train/images/1029_png.rf.34d0e89e6b74b6fee4c0c9a9677aa0f3.jpg', 'images/train/images/57_png.rf.44e748b59a4a7faeffb2720deca672cc.jpg', 'images/train/images/10215_png.rf.445d5576a262ff37c2379b2a3d7366f7.jpg', 'images/train/images/10260070023_png.rf.46643254d73131058af7d6bb6d283050.jpg', 'images/train/images/102575_png.rf.c98a56e25e34d5c82527a7f742bacaf4.jpg', 'images/train/images/1027_png.rf.be3da8aca15b3303350a575d4ebee9d2.jpg', 'images/train/images/10225_png.rf.2f9d3e9e8ff6ba7afae35e783ac37897.jpg', 'images/train/images/102599_png.rf.d201b77902701ed39a95bf17c85e16ef.jpg', 'images/train/images/58_png.rf.f8bc9da277146d0637995b150019b229.jpg', 'images/train/images/A0_png.rf.8217301bb8405d74595636d1e385abc7.jpg', 'images/train/images/1022_png.rf.2f3811821e210595a4a8f6b07cca16e7.jpg', 'images/train/images/10228_png.rf.ec6d0330dea1883f7fb1f881c3ff154e.jpg', 'images/train/images/56_png.rf.96e35539d0f16deb68b7e12e09353f71.jpg', 'images/train/images/Z37_png.rf.d4f3227476e7e3e529d319a4f0d51ba1.jpg', 'images/train/images/21_png.rf.ff3d2f7da54ea8ecd2ef2c05b96f5ea8.jpg', 'images/train/images/Z1_png.rf.05ff6973c1797c1f4ff93a9bdb1bba51.jpg', 'images/train/images/10260028_png.rf.5a4eaa4aec0c8d5b43ffd515e26ea7d4.jpg', 'images/train/images/A2_png.rf.bd8ce8dd7aebbfdb7099fed2999bd3e3.jpg', 'images/train/images/Z38_png.rf.68eec5db331faf2c9d8f504a11e80491.jpg', 'images/train/images/7_png.rf.7d9eca5a1009002ce10c51c525a8e453.jpg', 'images/train/images/68_png.rf.61769bc07954493567cf7ead3af99566.jpg', 'images/train/images/49_png.rf.86ceb4f7f530a09cbd0663428d6f41c5.jpg', 'images/train/images/Z28_png.rf.228def44661ba17de54d24bff321a091.jpg', 'images/train/images/Z19_png.rf.4cd0f57be85d915901108971272b57da.jpg', 'images/train/images/102569_png.rf.1e0b0f18add6117161bded69a8ed585a.jpg', 'images/train/images/1025_png.rf.99a5fc1672385f8a10fafe9b35b26b2c.jpg', 'images/train/images/Z11_png.rf.338346713ab6482b6e648b0c6ad1456f.jpg', 'images/train/images/10222_png.rf.a177da48960f61372087eef9c02a6786.jpg', 'images/train/images/28_png.rf.f19d07625b54d1fee962703c94733b41.jpg', 'images/train/images/102600700263_png.rf.6321b10260555d4d0ff52c64e657bada.jpg', 'images/train/images/A36_png.rf.9b7ad6b0112c04f2a697a77a81c6c109.jpg', 'images/train/images/1026007005_png.rf.bb8366951b0c0632be43ff112c5418aa.jpg', 'images/train/images/102585_png.rf.269d31219c92fbe5ab75d9ff0cb86969.jpg', 'images/train/images/64_png.rf.60e6e9ed0b5986c601553e6123c95528.jpg', 'images/train/images/40_png.rf.50dcc4b6a63d82b2b6d7a686616caca4.jpg', 'images/train/images/10260070017_png.rf.8147f1eb1f1fad1ee5aa703c72520de3.jpg', 'images/train/images/102559_png.rf.f84395ffc9d5ff74b42cefe4f698c7f4.jpg', 'images/train/images/Z13_png.rf.c9348bd9a208f7f35c4d5ee55bca4de0.jpg', 'images/train/images/B5_png.rf.05f2519bd95c10fa4ddee74bcecc43e5.jpg', 'images/train/images/A3_png.rf.bf63b069613196530592d1e7afb38e3c.jpg', 'images/train/images/43_png.rf.ddcb84fbfdb4015e18fe2dc01818ad3b.jpg', 'images/train/images/Z50_png.rf.0a38e398f10e5aaa6cdc83d9286bca76.jpg', 'images/train/images/35_png.rf.dde25c9be6a084132f41a498b32abe41.jpg', 'images/train/images/Z21_png.rf.045ab323c4ffc444fad2c7957c7f65f3.jpg', 'images/train/images/C9_png.rf.eff4afd90c20f4621b93b04ca6423464.jpg', 'images/train/images/100_png.rf.e2b35a84295d65622374ac20f52ee7fb.jpg', 'images/train/images/A4_png.rf.2be52c386343276ae37aa850eee2f1a6.jpg', 'images/train/images/10260025_png.rf.cfb5403396fcc6edb57dee65fb40e841.jpg', 'images/train/images/24_png.rf.84d5c81b9ab18458c3d04d43248e761e.jpg', 'images/train/images/102593_png.rf.245526c894cbd82069474e015ac12379.jpg', 'images/train/images/19_png.rf.5e78f8e1bbb179a4a25846fb0b40799a.jpg', 'images/train/images/63_png.rf.b4f15e695b69f47cc90d591fb1a3450b.jpg', 'images/train/images/102578_png.rf.78b91b4e4d3792fdef93abef12b1f534.jpg', 'images/train/images/52_png.rf.46c0e8af8571eae43fa5582947fc9c33.jpg', 'images/train/images/102588_png.rf.5644ffb25bd204c895c73bbdac1bcfb7.jpg', 'images/train/images/10260011_png.rf.ce986578f74527b9933729da281497c5.jpg', 'images/train/images/Z48_png.rf.b6d428eaad3ff5804a18b72de7466c41.jpg', 'images/train/images/69_png.rf.c7effa4f04e6c334d7dc5335c50f5605.jpg', 'images/train/images/102583_png.rf.26712645252b310be666611cbaba4040.jpg', 'images/train/images/Z41_png.rf.d1abf87095e1317698fb0b59b886aa07.jpg', 'images/train/images/54_png.rf.6115cfc9486290a784d7ed2540049b50.jpg', 'images/train/images/61_png.rf.22dae739dae1ed4a1808dd35d37e5bb7.jpg', 'images/train/images/66_png.rf.b492ec83703429523f0e85f42e7572af.jpg', 'images/train/images/10260032_png.rf.56edbbcd535e782cc06fa2a27193311b.jpg', 'images/train/images/10260012_png.rf.0972696e53494fed483de98fd88b1891.jpg', 'images/train/images/3_png.rf.6b33889fb8347e8d8fc932987b2edbbe.jpg', 'images/train/images/Z17_png.rf.3f1fb4ba878fd5e5f875be5e14867951.jpg', 'images/train/images/10219_png.rf.36e5759cfef65dbb8453a4ff8dc7604c.jpg', 'images/train/images/10214_png.rf.050cc8f472b131cd613e450fd232b33b.jpg', 'images/train/images/Z30_png.rf.b3e4dd0a57840b2f2d8c2950e2fcc9da.jpg', 'images/train/images/10260030_png.rf.3accc1f3dd229b962c993c5e71107585.jpg', 'images/train/images/14_png.rf.24f33c0ab2d92a9b175ff37796f4e784.jpg', 'images/train/images/1023_png.rf.aa6564846513f1fdac0791967b3540c1.jpg', 'images/train/images/10260070019_png.rf.c3bcee5c1c6b2590d89db10faf9ec2f6.jpg', 'images/train/images/A6_png.rf.9de7a0657a6ec99112245d19ef19dd1c.jpg', 'images/train/images/Z27_png.rf.48d1ee22c4cd04ad04d1aa1a63515720.jpg', 'images/train/images/10260010_png.rf.b1955711649abada1c6006080ec8cdda.jpg', 'images/train/images/26_png.rf.6fab5e6edf7d1414c7cfc96d16c78938.jpg', 'images/train/images/1021_png.rf.b71a99f6c88963433a7b1098a5245786.jpg', 'images/train/images/10260017_png.rf.544b3eb4b15cd477db7af23e7babeeee.jpg', 'images/train/images/102563_png.rf.d43bbccef170766889bf9890173738b5.jpg', 'images/train/images/Z44_png.rf.e16c6b6af4e83f22518ecd1bbbb43f32.jpg', 'images/train/images/10260013_png.rf.ef5414be1d20291e6f9bfe2739d0da11.jpg', 'images/train/images/Z36_png.rf.f3004e2da89cfba8c143b299dcac9bea.jpg', 'images/train/images/Z53_png.rf.ef4d9595224f0f07f9ec9d95259cb25e.jpg', 'images/train/images/17_png.rf.45fb1c3e2d7a9a6bfa73c87e39c4610e.jpg', 'images/valid/images/A41_png.rf.d75e853125045d670c4dd011e377d7f0.jpg', 'images/valid/images/Z45_png.rf.92715f74e2f531cf0e2b963c4652deeb.jpg', 'images/valid/images/B6_png.rf.9694520b1f15dff9b493de3e97cc25f4.jpg', 'images/valid/images/Z26_png.rf.c1641bf68e0f303a2bc668403b3afac2.jpg', 'images/valid/images/D1_png.rf.e9647ef8259541eff78e5a03fd9a27a9.jpg', 'images/valid/images/Z42_png.rf.eea709c10ddee936c93050e89feb2b59.jpg', 'images/valid/images/Z15_png.rf.ce56904c0b71807e5089cbe6a0ac309f.jpg', 'images/valid/images/10260070026111113_png.rf.fc00d4dd78015993428fef10531f3e42.jpg', 'images/valid/images/Z43_png.rf.5dd6cb182bd8a7b4f87129f4eec6117a.jpg', 'images/valid/images/D5_png.rf.e42f3f9df532ec09cfdee443f060c227.jpg', 'images/valid/images/B12_png.rf.9d65d286bedda408cf497b6598d072ec.jpg', 'images/valid/images/10260070026111110_png.rf.115d39c124953c36ee4defd99b85a5c4.jpg', 'images/valid/images/10260070026111119_png.rf.798bc5d2f43e87121b4636ac2b1ae8fd.jpg', 'images/valid/images/C3_png.rf.e4eb8a7b4e8be968bdd60f577d4b616f.jpg', 'images/valid/images/Z33_png.rf.95633ff2f9ad4312074eb4ffde564821.jpg', 'images/valid/images/C8_png.rf.f001ac0fea09b1567f738f8e9c551ed5.jpg', 'images/valid/images/B9_png.rf.4e516d711ac0b3d0680561f687351da9.jpg', 'images/valid/images/D0_png.rf.8f572c2197a5c52baa8068024dc1141f.jpg', 'images/valid/images/D4_png.rf.329bb3d14124ccf2d3f925e8e506cb50.jpg', 'images/valid/images/10260070026111121_png.rf.a8ce8e8107aa917a6fe5e4cbec7d329d.jpg', 'images/valid/images/10260070026111111_png.rf.ae0856a0bf975806e447e811decd2c12.jpg', 'images/valid/images/A1_png.rf.19a34f5bee73deb0b7e35cab5b44dcba.jpg', 'images/valid/images/D2_png.rf.d0f7c7d12a8c933d7e8727fe07d7d937.jpg', 'images/valid/images/C10_png.rf.226fb3bdb784ef831ce73df2f4292627.jpg', 'images/valid/images/Z14_png.rf.2119c010c9ef97d48fe6f1229850bca1.jpg', 'images/valid/images/Z34_png.rf.676c6f7fb3c88b420068acd1c447a48e.jpg', 'images/valid/images/10260070026111120_png.rf.8597df74c7581e9230844d7c055371f0.jpg', 'images/valid/images/A43_png.rf.1fe78f5cd74ae421a20123f7079fdab8.jpg', 'images/valid/images/Z5_png.rf.411ccc380759d50eec1893be953054dc.jpg', 'images/valid/images/1026007002671_png.rf.86e4d0a40170c0ea71897b9de393d7d7.jpg', 'images/valid/images/Z51_png.rf.55d441dc3dfbef34556adccdbe192ee3.jpg', 'images/valid/images/C2_png.rf.af46e70b44ef45df638a4b8748d2314b.jpg', 'images/valid/images/D6_png.rf.cfcea5dd3f28646eeeb9c43911bc56de.jpg', 'images/valid/images/A40_png.rf.18a4a45062b0fdb9f47b0903767a4c27.jpg', 'images/valid/images/10260070026111112_png.rf.f90c8655582c751d403331efaba53637.jpg', 'images/valid/images/Z2_png.rf.acc9ca1bd729a355c5ace1170b3b8040.jpg', 'images/valid/images/B4_png.rf.2b0165b9c32e35a587189d0467855dd1.jpg', 'images/valid/images/B10_png.rf.7bbe97ae0a71b6e4f8fcc7d72977e04b.jpg', 'images/valid/images/10260070026111129_png.rf.9a388063c9259fcd41a0ac06509bc47a.jpg', 'images/valid/images/10260070026111143_png.rf.86491e8d99daeb7e6e81160c18d23af4.jpg', 'images/valid/images/D3_png.rf.9239ad830f503570db2c56bf37812d83.jpg', 'images/valid/images/C4_png.rf.62380b2cc06f64013480d86026f09fb3.jpg']\n"
          ]
        },
        {
          "output_type": "stream",
          "name": "stderr",
          "text": [
            "Saved 1 image to \u001b[1mruns/detect/exp\u001b[0m\n"
          ]
        },
        {
          "output_type": "display_data",
          "data": {
            "image/jpeg": "[encoded data removed]",
            "text/plain": [
              "<IPython.core.display.Image object>"
            ]
          },
          "metadata": {}
        }
      ]
    }
  ]
}